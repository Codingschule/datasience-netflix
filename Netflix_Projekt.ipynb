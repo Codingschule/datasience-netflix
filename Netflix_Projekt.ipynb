{
 "cells": [
  {
   "metadata": {},
   "cell_type": "markdown",
   "source": [
    "# Filmanalyse mit Pandas\n",
    "## Einsteigerprojekt\n",
    "Willkommen zu eurem ersten Pandas-Projekt! In diesem Notebook werden wir einen Datensatz mit Film- und Serieninformationen analysieren. Ziel ist es, die Grundlagen von Pandas zu lernen, Daten zu bereinigen, erste Analysen durchzuführen und Ergebnisse zu visualisieren."
   ],
   "id": "319855f9c47bcec9"
  },
  {
   "metadata": {},
   "cell_type": "markdown",
   "source": [
    "### 1. Bibliotheken importieren\n",
    "Zuerst importieren wir die notwendigen Bibliotheken: pandas für die Datenmanipulation und matplotlib.pyplot sowie seaborn für die Visualisierung."
   ],
   "id": "656afb2289ec9c5a"
  },
  {
   "metadata": {
    "ExecuteTime": {
     "end_time": "2025-08-05T05:24:23.783508Z",
     "start_time": "2025-08-05T05:24:23.780260Z"
    }
   },
   "cell_type": "code",
   "source": [
    "import pandas as pd\n",
    "import matplotlib.pyplot as plt\n",
    "import seaborn as sns\n",
    "\n",
    "# Optional: Einstellungen für schönere Plots\n",
    "sns.set_style(\"whitegrid\")\n",
    "plt.rcParams['figure.figsize'] = (10, 6) # Standardgröße für Diagramme\n",
    "plt.rcParams['figure.dpi'] = 100 # Höhere Auflösung für Diagramme"
   ],
   "id": "a7e9738e55c8a973",
   "outputs": [],
   "execution_count": 4
  },
  {
   "metadata": {},
   "cell_type": "markdown",
   "source": [
    "### 2. Daten laden\n",
    "Wir laden den Datensatz aus einer CSV-Datei in einen Pandas DataFrame. Stellt sicher, dass die netflix.csv-Datei im selben Verzeichnis wie euer Notebook liegt, oder passt den Pfad entsprechend an."
   ],
   "id": "96cb90eec0c3f46f"
  },
  {
   "metadata": {
    "ExecuteTime": {
     "end_time": "2025-08-05T05:24:26.872681Z",
     "start_time": "2025-08-05T05:24:26.830354Z"
    }
   },
   "cell_type": "code",
   "source": [
    "# Pfad zur CSV-Datei\n",
    "file_path = 'netflix.csv' # Annahme: Datei liegt im selben Ordner\n",
    "\n",
    "# DataFrame erstellen\n",
    "df = pd.read_csv(file_path)\n",
    "\n",
    "print(f\"Datensatz erfolgreich geladen. Anzahl der Zeilen: {df.shape[0]}, Anzahl der Spalten: {df.shape[1]}\")"
   ],
   "id": "cb656ea5b6125e3c",
   "outputs": [
    {
     "name": "stdout",
     "output_type": "stream",
     "text": [
      "Datensatz erfolgreich geladen. Anzahl der Zeilen: 8807, Anzahl der Spalten: 12\n"
     ]
    }
   ],
   "execution_count": 5
  },
  {
   "metadata": {},
   "cell_type": "markdown",
   "source": [
    "### 3. Daten erkunden: Erster Überblick\n",
    "Schauen wir uns die ersten und letzten Zeilen des DataFrames an und erhalten einen Überblick über Datentypen und fehlende Werte.\n",
    "Aber bevor wie loslegen werden wir unseren Datensatz einmal kopieren. Das erleichtert uns später bei unseren ersten Gehversuchen die Arbeit. Wir behalten also immer den originalen Datensatz und arbeiten auf der Kopie. Kannst Du Dir vorstellen warum das sinnvoll ist?"
   ],
   "id": "6ef3fd018e4d7037"
  },
  {
   "metadata": {
    "ExecuteTime": {
     "end_time": "2025-08-05T05:24:29.191649Z",
     "start_time": "2025-08-05T05:24:29.187545Z"
    }
   },
   "cell_type": "code",
   "source": "df_original = df.copy()",
   "id": "fcd698b198e1d287",
   "outputs": [],
   "execution_count": 6
  },
  {
   "metadata": {
    "ExecuteTime": {
     "end_time": "2025-08-05T05:24:31.411010Z",
     "start_time": "2025-08-05T05:24:31.402857Z"
    }
   },
   "cell_type": "code",
   "source": [
    "print(\"Erste 5 Zeilen des DataFrames:\")\n",
    "df.head()"
   ],
   "id": "fa27cb9a68100ce8",
   "outputs": [
    {
     "name": "stdout",
     "output_type": "stream",
     "text": [
      "Erste 5 Zeilen des DataFrames:\n"
     ]
    },
    {
     "data": {
      "text/plain": [
       "  show_id     type                  title         director  \\\n",
       "0      s1    Movie   Dick Johnson Is Dead  Kirsten Johnson   \n",
       "1      s2  TV Show          Blood & Water              NaN   \n",
       "2      s3  TV Show              Ganglands  Julien Leclercq   \n",
       "3      s4  TV Show  Jailbirds New Orleans              NaN   \n",
       "4      s5  TV Show           Kota Factory              NaN   \n",
       "\n",
       "                                                cast        country  \\\n",
       "0                                                NaN  United States   \n",
       "1  Ama Qamata, Khosi Ngema, Gail Mabalane, Thaban...   South Africa   \n",
       "2  Sami Bouajila, Tracy Gotoas, Samuel Jouy, Nabi...            NaN   \n",
       "3                                                NaN            NaN   \n",
       "4  Mayur More, Jitendra Kumar, Ranjan Raj, Alam K...          India   \n",
       "\n",
       "           date_added  release_year rating   duration  \\\n",
       "0  September 25, 2021          2020  PG-13     90 min   \n",
       "1  September 24, 2021          2021  TV-MA  2 Seasons   \n",
       "2  September 24, 2021          2021  TV-MA   1 Season   \n",
       "3  September 24, 2021          2021  TV-MA   1 Season   \n",
       "4  September 24, 2021          2021  TV-MA  2 Seasons   \n",
       "\n",
       "                                           listed_in  \\\n",
       "0                                      Documentaries   \n",
       "1    International TV Shows, TV Dramas, TV Mysteries   \n",
       "2  Crime TV Shows, International TV Shows, TV Act...   \n",
       "3                             Docuseries, Reality TV   \n",
       "4  International TV Shows, Romantic TV Shows, TV ...   \n",
       "\n",
       "                                         description  \n",
       "0  As her father nears the end of his life, filmm...  \n",
       "1  After crossing paths at a party, a Cape Town t...  \n",
       "2  To protect his family from a powerful drug lor...  \n",
       "3  Feuds, flirtations and toilet talk go down amo...  \n",
       "4  In a city of coaching centers known to train I...  "
      ],
      "text/html": [
       "<div>\n",
       "<style scoped>\n",
       "    .dataframe tbody tr th:only-of-type {\n",
       "        vertical-align: middle;\n",
       "    }\n",
       "\n",
       "    .dataframe tbody tr th {\n",
       "        vertical-align: top;\n",
       "    }\n",
       "\n",
       "    .dataframe thead th {\n",
       "        text-align: right;\n",
       "    }\n",
       "</style>\n",
       "<table border=\"1\" class=\"dataframe\">\n",
       "  <thead>\n",
       "    <tr style=\"text-align: right;\">\n",
       "      <th></th>\n",
       "      <th>show_id</th>\n",
       "      <th>type</th>\n",
       "      <th>title</th>\n",
       "      <th>director</th>\n",
       "      <th>cast</th>\n",
       "      <th>country</th>\n",
       "      <th>date_added</th>\n",
       "      <th>release_year</th>\n",
       "      <th>rating</th>\n",
       "      <th>duration</th>\n",
       "      <th>listed_in</th>\n",
       "      <th>description</th>\n",
       "    </tr>\n",
       "  </thead>\n",
       "  <tbody>\n",
       "    <tr>\n",
       "      <th>0</th>\n",
       "      <td>s1</td>\n",
       "      <td>Movie</td>\n",
       "      <td>Dick Johnson Is Dead</td>\n",
       "      <td>Kirsten Johnson</td>\n",
       "      <td>NaN</td>\n",
       "      <td>United States</td>\n",
       "      <td>September 25, 2021</td>\n",
       "      <td>2020</td>\n",
       "      <td>PG-13</td>\n",
       "      <td>90 min</td>\n",
       "      <td>Documentaries</td>\n",
       "      <td>As her father nears the end of his life, filmm...</td>\n",
       "    </tr>\n",
       "    <tr>\n",
       "      <th>1</th>\n",
       "      <td>s2</td>\n",
       "      <td>TV Show</td>\n",
       "      <td>Blood &amp; Water</td>\n",
       "      <td>NaN</td>\n",
       "      <td>Ama Qamata, Khosi Ngema, Gail Mabalane, Thaban...</td>\n",
       "      <td>South Africa</td>\n",
       "      <td>September 24, 2021</td>\n",
       "      <td>2021</td>\n",
       "      <td>TV-MA</td>\n",
       "      <td>2 Seasons</td>\n",
       "      <td>International TV Shows, TV Dramas, TV Mysteries</td>\n",
       "      <td>After crossing paths at a party, a Cape Town t...</td>\n",
       "    </tr>\n",
       "    <tr>\n",
       "      <th>2</th>\n",
       "      <td>s3</td>\n",
       "      <td>TV Show</td>\n",
       "      <td>Ganglands</td>\n",
       "      <td>Julien Leclercq</td>\n",
       "      <td>Sami Bouajila, Tracy Gotoas, Samuel Jouy, Nabi...</td>\n",
       "      <td>NaN</td>\n",
       "      <td>September 24, 2021</td>\n",
       "      <td>2021</td>\n",
       "      <td>TV-MA</td>\n",
       "      <td>1 Season</td>\n",
       "      <td>Crime TV Shows, International TV Shows, TV Act...</td>\n",
       "      <td>To protect his family from a powerful drug lor...</td>\n",
       "    </tr>\n",
       "    <tr>\n",
       "      <th>3</th>\n",
       "      <td>s4</td>\n",
       "      <td>TV Show</td>\n",
       "      <td>Jailbirds New Orleans</td>\n",
       "      <td>NaN</td>\n",
       "      <td>NaN</td>\n",
       "      <td>NaN</td>\n",
       "      <td>September 24, 2021</td>\n",
       "      <td>2021</td>\n",
       "      <td>TV-MA</td>\n",
       "      <td>1 Season</td>\n",
       "      <td>Docuseries, Reality TV</td>\n",
       "      <td>Feuds, flirtations and toilet talk go down amo...</td>\n",
       "    </tr>\n",
       "    <tr>\n",
       "      <th>4</th>\n",
       "      <td>s5</td>\n",
       "      <td>TV Show</td>\n",
       "      <td>Kota Factory</td>\n",
       "      <td>NaN</td>\n",
       "      <td>Mayur More, Jitendra Kumar, Ranjan Raj, Alam K...</td>\n",
       "      <td>India</td>\n",
       "      <td>September 24, 2021</td>\n",
       "      <td>2021</td>\n",
       "      <td>TV-MA</td>\n",
       "      <td>2 Seasons</td>\n",
       "      <td>International TV Shows, Romantic TV Shows, TV ...</td>\n",
       "      <td>In a city of coaching centers known to train I...</td>\n",
       "    </tr>\n",
       "  </tbody>\n",
       "</table>\n",
       "</div>"
      ]
     },
     "execution_count": 7,
     "metadata": {},
     "output_type": "execute_result"
    }
   ],
   "execution_count": 7
  },
  {
   "metadata": {
    "ExecuteTime": {
     "end_time": "2025-08-05T05:24:33.627300Z",
     "start_time": "2025-08-05T05:24:33.621159Z"
    }
   },
   "cell_type": "code",
   "source": [
    "print(\"\\nLetzte 5 Zeilen des DataFrames:\")\n",
    "df.tail()"
   ],
   "id": "60bfebca5bf619cd",
   "outputs": [
    {
     "name": "stdout",
     "output_type": "stream",
     "text": [
      "\n",
      "Letzte 5 Zeilen des DataFrames:\n"
     ]
    },
    {
     "data": {
      "text/plain": [
       "     show_id     type        title         director  \\\n",
       "8802   s8803    Movie       Zodiac    David Fincher   \n",
       "8803   s8804  TV Show  Zombie Dumb              NaN   \n",
       "8804   s8805    Movie   Zombieland  Ruben Fleischer   \n",
       "8805   s8806    Movie         Zoom     Peter Hewitt   \n",
       "8806   s8807    Movie       Zubaan      Mozez Singh   \n",
       "\n",
       "                                                   cast        country  \\\n",
       "8802  Mark Ruffalo, Jake Gyllenhaal, Robert Downey J...  United States   \n",
       "8803                                                NaN            NaN   \n",
       "8804  Jesse Eisenberg, Woody Harrelson, Emma Stone, ...  United States   \n",
       "8805  Tim Allen, Courteney Cox, Chevy Chase, Kate Ma...  United States   \n",
       "8806  Vicky Kaushal, Sarah-Jane Dias, Raaghav Chanan...          India   \n",
       "\n",
       "             date_added  release_year rating   duration  \\\n",
       "8802  November 20, 2019          2007      R    158 min   \n",
       "8803       July 1, 2019          2018  TV-Y7  2 Seasons   \n",
       "8804   November 1, 2019          2009      R     88 min   \n",
       "8805   January 11, 2020          2006     PG     88 min   \n",
       "8806      March 2, 2019          2015  TV-14    111 min   \n",
       "\n",
       "                                           listed_in  \\\n",
       "8802                  Cult Movies, Dramas, Thrillers   \n",
       "8803          Kids' TV, Korean TV Shows, TV Comedies   \n",
       "8804                         Comedies, Horror Movies   \n",
       "8805              Children & Family Movies, Comedies   \n",
       "8806  Dramas, International Movies, Music & Musicals   \n",
       "\n",
       "                                            description  \n",
       "8802  A political cartoonist, a crime reporter and a...  \n",
       "8803  While living alone in a spooky town, a young g...  \n",
       "8804  Looking to survive in a world taken over by zo...  \n",
       "8805  Dragged from civilian life, a former superhero...  \n",
       "8806  A scrappy but poor boy worms his way into a ty...  "
      ],
      "text/html": [
       "<div>\n",
       "<style scoped>\n",
       "    .dataframe tbody tr th:only-of-type {\n",
       "        vertical-align: middle;\n",
       "    }\n",
       "\n",
       "    .dataframe tbody tr th {\n",
       "        vertical-align: top;\n",
       "    }\n",
       "\n",
       "    .dataframe thead th {\n",
       "        text-align: right;\n",
       "    }\n",
       "</style>\n",
       "<table border=\"1\" class=\"dataframe\">\n",
       "  <thead>\n",
       "    <tr style=\"text-align: right;\">\n",
       "      <th></th>\n",
       "      <th>show_id</th>\n",
       "      <th>type</th>\n",
       "      <th>title</th>\n",
       "      <th>director</th>\n",
       "      <th>cast</th>\n",
       "      <th>country</th>\n",
       "      <th>date_added</th>\n",
       "      <th>release_year</th>\n",
       "      <th>rating</th>\n",
       "      <th>duration</th>\n",
       "      <th>listed_in</th>\n",
       "      <th>description</th>\n",
       "    </tr>\n",
       "  </thead>\n",
       "  <tbody>\n",
       "    <tr>\n",
       "      <th>8802</th>\n",
       "      <td>s8803</td>\n",
       "      <td>Movie</td>\n",
       "      <td>Zodiac</td>\n",
       "      <td>David Fincher</td>\n",
       "      <td>Mark Ruffalo, Jake Gyllenhaal, Robert Downey J...</td>\n",
       "      <td>United States</td>\n",
       "      <td>November 20, 2019</td>\n",
       "      <td>2007</td>\n",
       "      <td>R</td>\n",
       "      <td>158 min</td>\n",
       "      <td>Cult Movies, Dramas, Thrillers</td>\n",
       "      <td>A political cartoonist, a crime reporter and a...</td>\n",
       "    </tr>\n",
       "    <tr>\n",
       "      <th>8803</th>\n",
       "      <td>s8804</td>\n",
       "      <td>TV Show</td>\n",
       "      <td>Zombie Dumb</td>\n",
       "      <td>NaN</td>\n",
       "      <td>NaN</td>\n",
       "      <td>NaN</td>\n",
       "      <td>July 1, 2019</td>\n",
       "      <td>2018</td>\n",
       "      <td>TV-Y7</td>\n",
       "      <td>2 Seasons</td>\n",
       "      <td>Kids' TV, Korean TV Shows, TV Comedies</td>\n",
       "      <td>While living alone in a spooky town, a young g...</td>\n",
       "    </tr>\n",
       "    <tr>\n",
       "      <th>8804</th>\n",
       "      <td>s8805</td>\n",
       "      <td>Movie</td>\n",
       "      <td>Zombieland</td>\n",
       "      <td>Ruben Fleischer</td>\n",
       "      <td>Jesse Eisenberg, Woody Harrelson, Emma Stone, ...</td>\n",
       "      <td>United States</td>\n",
       "      <td>November 1, 2019</td>\n",
       "      <td>2009</td>\n",
       "      <td>R</td>\n",
       "      <td>88 min</td>\n",
       "      <td>Comedies, Horror Movies</td>\n",
       "      <td>Looking to survive in a world taken over by zo...</td>\n",
       "    </tr>\n",
       "    <tr>\n",
       "      <th>8805</th>\n",
       "      <td>s8806</td>\n",
       "      <td>Movie</td>\n",
       "      <td>Zoom</td>\n",
       "      <td>Peter Hewitt</td>\n",
       "      <td>Tim Allen, Courteney Cox, Chevy Chase, Kate Ma...</td>\n",
       "      <td>United States</td>\n",
       "      <td>January 11, 2020</td>\n",
       "      <td>2006</td>\n",
       "      <td>PG</td>\n",
       "      <td>88 min</td>\n",
       "      <td>Children &amp; Family Movies, Comedies</td>\n",
       "      <td>Dragged from civilian life, a former superhero...</td>\n",
       "    </tr>\n",
       "    <tr>\n",
       "      <th>8806</th>\n",
       "      <td>s8807</td>\n",
       "      <td>Movie</td>\n",
       "      <td>Zubaan</td>\n",
       "      <td>Mozez Singh</td>\n",
       "      <td>Vicky Kaushal, Sarah-Jane Dias, Raaghav Chanan...</td>\n",
       "      <td>India</td>\n",
       "      <td>March 2, 2019</td>\n",
       "      <td>2015</td>\n",
       "      <td>TV-14</td>\n",
       "      <td>111 min</td>\n",
       "      <td>Dramas, International Movies, Music &amp; Musicals</td>\n",
       "      <td>A scrappy but poor boy worms his way into a ty...</td>\n",
       "    </tr>\n",
       "  </tbody>\n",
       "</table>\n",
       "</div>"
      ]
     },
     "execution_count": 8,
     "metadata": {},
     "output_type": "execute_result"
    }
   ],
   "execution_count": 8
  },
  {
   "metadata": {},
   "cell_type": "markdown",
   "source": [
    "#### Bestimmte Spalten anzeigen\n",
    "Wir können uns auch nur ausgewählte Spalten ansehen."
   ],
   "id": "d93e0b11f757eeb4"
  },
  {
   "metadata": {
    "ExecuteTime": {
     "end_time": "2025-08-05T05:24:36.892473Z",
     "start_time": "2025-08-05T05:24:36.885510Z"
    }
   },
   "cell_type": "code",
   "source": [
    "print(\"\\nAnzeige der Spalten 'title', 'type', 'release_year':\")\n",
    "df[['title', 'type', 'release_year']].head()"
   ],
   "id": "a7fc5197e252cc99",
   "outputs": [
    {
     "name": "stdout",
     "output_type": "stream",
     "text": [
      "\n",
      "Anzeige der Spalten 'title', 'type', 'release_year':\n"
     ]
    },
    {
     "data": {
      "text/plain": [
       "                   title     type  release_year\n",
       "0   Dick Johnson Is Dead    Movie          2020\n",
       "1          Blood & Water  TV Show          2021\n",
       "2              Ganglands  TV Show          2021\n",
       "3  Jailbirds New Orleans  TV Show          2021\n",
       "4           Kota Factory  TV Show          2021"
      ],
      "text/html": [
       "<div>\n",
       "<style scoped>\n",
       "    .dataframe tbody tr th:only-of-type {\n",
       "        vertical-align: middle;\n",
       "    }\n",
       "\n",
       "    .dataframe tbody tr th {\n",
       "        vertical-align: top;\n",
       "    }\n",
       "\n",
       "    .dataframe thead th {\n",
       "        text-align: right;\n",
       "    }\n",
       "</style>\n",
       "<table border=\"1\" class=\"dataframe\">\n",
       "  <thead>\n",
       "    <tr style=\"text-align: right;\">\n",
       "      <th></th>\n",
       "      <th>title</th>\n",
       "      <th>type</th>\n",
       "      <th>release_year</th>\n",
       "    </tr>\n",
       "  </thead>\n",
       "  <tbody>\n",
       "    <tr>\n",
       "      <th>0</th>\n",
       "      <td>Dick Johnson Is Dead</td>\n",
       "      <td>Movie</td>\n",
       "      <td>2020</td>\n",
       "    </tr>\n",
       "    <tr>\n",
       "      <th>1</th>\n",
       "      <td>Blood &amp; Water</td>\n",
       "      <td>TV Show</td>\n",
       "      <td>2021</td>\n",
       "    </tr>\n",
       "    <tr>\n",
       "      <th>2</th>\n",
       "      <td>Ganglands</td>\n",
       "      <td>TV Show</td>\n",
       "      <td>2021</td>\n",
       "    </tr>\n",
       "    <tr>\n",
       "      <th>3</th>\n",
       "      <td>Jailbirds New Orleans</td>\n",
       "      <td>TV Show</td>\n",
       "      <td>2021</td>\n",
       "    </tr>\n",
       "    <tr>\n",
       "      <th>4</th>\n",
       "      <td>Kota Factory</td>\n",
       "      <td>TV Show</td>\n",
       "      <td>2021</td>\n",
       "    </tr>\n",
       "  </tbody>\n",
       "</table>\n",
       "</div>"
      ]
     },
     "execution_count": 9,
     "metadata": {},
     "output_type": "execute_result"
    }
   ],
   "execution_count": 9
  },
  {
   "metadata": {},
   "cell_type": "markdown",
   "source": [
    "#### Allgemeine Informationen (.info())\n",
    "df.info() gibt uns einen schnellen Überblick über die Spalten, deren Datentypen und die Anzahl der nicht-null-Werte. Das ist super wichtig, um fehlende Daten zu identifizieren."
   ],
   "id": "22742686c76077da"
  },
  {
   "metadata": {
    "ExecuteTime": {
     "end_time": "2025-08-05T05:24:42.312437Z",
     "start_time": "2025-08-05T05:24:42.303634Z"
    }
   },
   "cell_type": "code",
   "source": [
    "print(\"\\nAllgemeine Informationen zum DataFrame:\")\n",
    "df.info()"
   ],
   "id": "e36a3469a470b61c",
   "outputs": [
    {
     "name": "stdout",
     "output_type": "stream",
     "text": [
      "\n",
      "Allgemeine Informationen zum DataFrame:\n",
      "<class 'pandas.core.frame.DataFrame'>\n",
      "RangeIndex: 8807 entries, 0 to 8806\n",
      "Data columns (total 12 columns):\n",
      " #   Column        Non-Null Count  Dtype \n",
      "---  ------        --------------  ----- \n",
      " 0   show_id       8807 non-null   object\n",
      " 1   type          8807 non-null   object\n",
      " 2   title         8807 non-null   object\n",
      " 3   director      6173 non-null   object\n",
      " 4   cast          7982 non-null   object\n",
      " 5   country       7976 non-null   object\n",
      " 6   date_added    8797 non-null   object\n",
      " 7   release_year  8807 non-null   int64 \n",
      " 8   rating        8803 non-null   object\n",
      " 9   duration      8804 non-null   object\n",
      " 10  listed_in     8807 non-null   object\n",
      " 11  description   8807 non-null   object\n",
      "dtypes: int64(1), object(11)\n",
      "memory usage: 825.8+ KB\n"
     ]
    }
   ],
   "execution_count": 10
  },
  {
   "metadata": {},
   "cell_type": "markdown",
   "source": [
    "#### Statistische Zusammenfassung für numerische Spalten (.describe())\n",
    "df.describe() liefert statistische Kennzahlen (Mittelwert, Median, Quartile etc.) für alle numerischen Spalten."
   ],
   "id": "fabe5e4fbd0ad2a"
  },
  {
   "metadata": {
    "ExecuteTime": {
     "end_time": "2025-08-05T05:24:45.809139Z",
     "start_time": "2025-08-05T05:24:45.800607Z"
    }
   },
   "cell_type": "code",
   "source": [
    "print(\"\\nStatistische Zusammenfassung der numerischen Spalten:\")\n",
    "df.describe()"
   ],
   "id": "ae07828015b6d1b4",
   "outputs": [
    {
     "name": "stdout",
     "output_type": "stream",
     "text": [
      "\n",
      "Statistische Zusammenfassung der numerischen Spalten:\n"
     ]
    },
    {
     "data": {
      "text/plain": [
       "       release_year\n",
       "count   8807.000000\n",
       "mean    2014.180198\n",
       "std        8.819312\n",
       "min     1925.000000\n",
       "25%     2013.000000\n",
       "50%     2017.000000\n",
       "75%     2019.000000\n",
       "max     2021.000000"
      ],
      "text/html": [
       "<div>\n",
       "<style scoped>\n",
       "    .dataframe tbody tr th:only-of-type {\n",
       "        vertical-align: middle;\n",
       "    }\n",
       "\n",
       "    .dataframe tbody tr th {\n",
       "        vertical-align: top;\n",
       "    }\n",
       "\n",
       "    .dataframe thead th {\n",
       "        text-align: right;\n",
       "    }\n",
       "</style>\n",
       "<table border=\"1\" class=\"dataframe\">\n",
       "  <thead>\n",
       "    <tr style=\"text-align: right;\">\n",
       "      <th></th>\n",
       "      <th>release_year</th>\n",
       "    </tr>\n",
       "  </thead>\n",
       "  <tbody>\n",
       "    <tr>\n",
       "      <th>count</th>\n",
       "      <td>8807.000000</td>\n",
       "    </tr>\n",
       "    <tr>\n",
       "      <th>mean</th>\n",
       "      <td>2014.180198</td>\n",
       "    </tr>\n",
       "    <tr>\n",
       "      <th>std</th>\n",
       "      <td>8.819312</td>\n",
       "    </tr>\n",
       "    <tr>\n",
       "      <th>min</th>\n",
       "      <td>1925.000000</td>\n",
       "    </tr>\n",
       "    <tr>\n",
       "      <th>25%</th>\n",
       "      <td>2013.000000</td>\n",
       "    </tr>\n",
       "    <tr>\n",
       "      <th>50%</th>\n",
       "      <td>2017.000000</td>\n",
       "    </tr>\n",
       "    <tr>\n",
       "      <th>75%</th>\n",
       "      <td>2019.000000</td>\n",
       "    </tr>\n",
       "    <tr>\n",
       "      <th>max</th>\n",
       "      <td>2021.000000</td>\n",
       "    </tr>\n",
       "  </tbody>\n",
       "</table>\n",
       "</div>"
      ]
     },
     "execution_count": 11,
     "metadata": {},
     "output_type": "execute_result"
    }
   ],
   "execution_count": 11
  },
  {
   "metadata": {},
   "cell_type": "markdown",
   "source": [
    "## 4. Datenbereinigung (Cleansing)\n",
    "Daten sind selten perfekt! Hier kümmern wir uns um fehlende Werte und passen Datentypen an."
   ],
   "id": "82b96c62aae47282"
  },
  {
   "metadata": {},
   "cell_type": "markdown",
   "source": [
    "#### Fehlende Werte behandeln\n",
    "- **director, cast, country** Wir ersetzen fehlende Werte durch 'Unbekannt', da wir diese Informationen nicht einfach erraten können.\n",
    "- **date_added**: Für die Analyse des Hinzufügedatums sind vollständige Daten wichtig. Wir löschen Zeilen, in denen date_added fehlt.\n",
    "- **rating**: Hier gibt es nur sehr wenige fehlende Werte. Wir könnten sie löschen, aber für dieses Projekt füllen wir sie mit dem häufigsten Wert (mode) auf, um sie nicht zu verlieren."
   ],
   "id": "6f88e23dfb249682"
  },
  {
   "metadata": {
    "ExecuteTime": {
     "end_time": "2025-08-05T05:30:32.081505Z",
     "start_time": "2025-08-05T05:30:32.065910Z"
    }
   },
   "cell_type": "code",
   "source": [
    "# 'director', 'cast', 'country' mit 'Unbekannt' füllen\n",
    "df['director'] = df['director'].fillna('Unbekannt')\n",
    "df['cast'] = df['cast'].fillna('Unbekannt')\n",
    "df['country'] = df['country'].fillna('Unbekannt')\n",
    "\n",
    "# Zeilen mit fehlenden 'date_added' Werten löschen\n",
    "df = df.dropna(subset=['date_added'])\n",
    "\n",
    "# 'rating' mit dem häufigsten Wert füllen (mode)\n",
    "df['rating'] = df['rating'].fillna(df['rating'].mode()[0])\n",
    "\n",
    "# Ausgabe\n",
    "print(df_original.isnull().sum())\n",
    "print('-' * 20)\n",
    "print(df.isnull().sum(), \"\\n\")"
   ],
   "id": "cb08aef0af6c9ac9",
   "outputs": [
    {
     "name": "stdout",
     "output_type": "stream",
     "text": [
      "show_id            0\n",
      "type               0\n",
      "title              0\n",
      "director        2634\n",
      "cast             825\n",
      "country          831\n",
      "date_added        10\n",
      "release_year       0\n",
      "rating             4\n",
      "duration           3\n",
      "listed_in          0\n",
      "description        0\n",
      "dtype: int64\n",
      "--------------------\n",
      "show_id         0\n",
      "type            0\n",
      "title           0\n",
      "director        0\n",
      "cast            0\n",
      "country         0\n",
      "date_added      0\n",
      "release_year    0\n",
      "rating          0\n",
      "duration        3\n",
      "listed_in       0\n",
      "description     0\n",
      "dtype: int64 \n",
      "\n"
     ]
    }
   ],
   "execution_count": 19
  },
  {
   "metadata": {},
   "cell_type": "markdown",
   "source": "### Datentypen anpassen",
   "id": "33b2aeb4ca59c321"
  },
  {
   "metadata": {},
   "cell_type": "markdown",
   "source": "Die Spalte **date_added** sollte als Datumstyp gespeichert werden, damit wir damit rechnen können.",
   "id": "53cf0fd901f15395"
  },
  {
   "metadata": {
    "ExecuteTime": {
     "end_time": "2025-08-05T05:31:21.327881Z",
     "start_time": "2025-08-05T05:31:21.292878Z"
    }
   },
   "cell_type": "code",
   "source": [
    "# Konvertieren Sie die Spalte 'date_added' zu datetime\n",
    "df['date_added'] = pd.to_datetime(df['date_added'], errors='coerce')\n",
    "\n",
    "# Jetzt können Sie die .dt Methoden verwenden\n",
    "df['date_added_formatted'] = df['date_added'].dt.strftime('%B %d, %Y')\n",
    "\n",
    "print(\"\\nDatentypen nach der Anpassung von 'date_added':\")\n",
    "df.info()\n"
   ],
   "id": "8e36edd3b9f77dc3",
   "outputs": [
    {
     "name": "stdout",
     "output_type": "stream",
     "text": [
      "\n",
      "Datentypen nach der Anpassung von 'date_added':\n",
      "<class 'pandas.core.frame.DataFrame'>\n",
      "Index: 8797 entries, 0 to 8806\n",
      "Data columns (total 13 columns):\n",
      " #   Column                Non-Null Count  Dtype         \n",
      "---  ------                --------------  -----         \n",
      " 0   show_id               8797 non-null   object        \n",
      " 1   type                  8797 non-null   object        \n",
      " 2   title                 8797 non-null   object        \n",
      " 3   director              8797 non-null   object        \n",
      " 4   cast                  8797 non-null   object        \n",
      " 5   country               8797 non-null   object        \n",
      " 6   date_added            8709 non-null   datetime64[ns]\n",
      " 7   release_year          8797 non-null   int64         \n",
      " 8   rating                8797 non-null   object        \n",
      " 9   duration              8794 non-null   object        \n",
      " 10  listed_in             8797 non-null   object        \n",
      " 11  description           8797 non-null   object        \n",
      " 12  date_added_formatted  8709 non-null   object        \n",
      "dtypes: datetime64[ns](1), int64(1), object(11)\n",
      "memory usage: 962.2+ KB\n"
     ]
    }
   ],
   "execution_count": 20
  },
  {
   "metadata": {},
   "cell_type": "markdown",
   "source": [
    "#### Neue Spalte für das Hinzufügejahr erstellen\n",
    "Da date_added nun ein Datumstyp ist, können wir das Jahr einfach extrahieren."
   ],
   "id": "b2b4724c948d528"
  },
  {
   "metadata": {
    "ExecuteTime": {
     "end_time": "2025-08-05T05:34:02.381992Z",
     "start_time": "2025-08-05T05:34:02.375620Z"
    }
   },
   "cell_type": "code",
   "source": [
    "df['added_year'] = df['date_added'].dt.year\n",
    "\n",
    "print(\"\\nErste Zeilen mit der neuen Spalte 'added_year':\")\n",
    "df[['date_added', 'added_year']].head()"
   ],
   "id": "4d327676756d5d13",
   "outputs": [
    {
     "name": "stdout",
     "output_type": "stream",
     "text": [
      "\n",
      "Erste Zeilen mit der neuen Spalte 'added_year':\n"
     ]
    },
    {
     "data": {
      "text/plain": [
       "  date_added  added_year\n",
       "0 2021-09-25      2021.0\n",
       "1 2021-09-24      2021.0\n",
       "2 2021-09-24      2021.0\n",
       "3 2021-09-24      2021.0\n",
       "4 2021-09-24      2021.0"
      ],
      "text/html": [
       "<div>\n",
       "<style scoped>\n",
       "    .dataframe tbody tr th:only-of-type {\n",
       "        vertical-align: middle;\n",
       "    }\n",
       "\n",
       "    .dataframe tbody tr th {\n",
       "        vertical-align: top;\n",
       "    }\n",
       "\n",
       "    .dataframe thead th {\n",
       "        text-align: right;\n",
       "    }\n",
       "</style>\n",
       "<table border=\"1\" class=\"dataframe\">\n",
       "  <thead>\n",
       "    <tr style=\"text-align: right;\">\n",
       "      <th></th>\n",
       "      <th>date_added</th>\n",
       "      <th>added_year</th>\n",
       "    </tr>\n",
       "  </thead>\n",
       "  <tbody>\n",
       "    <tr>\n",
       "      <th>0</th>\n",
       "      <td>2021-09-25</td>\n",
       "      <td>2021.0</td>\n",
       "    </tr>\n",
       "    <tr>\n",
       "      <th>1</th>\n",
       "      <td>2021-09-24</td>\n",
       "      <td>2021.0</td>\n",
       "    </tr>\n",
       "    <tr>\n",
       "      <th>2</th>\n",
       "      <td>2021-09-24</td>\n",
       "      <td>2021.0</td>\n",
       "    </tr>\n",
       "    <tr>\n",
       "      <th>3</th>\n",
       "      <td>2021-09-24</td>\n",
       "      <td>2021.0</td>\n",
       "    </tr>\n",
       "    <tr>\n",
       "      <th>4</th>\n",
       "      <td>2021-09-24</td>\n",
       "      <td>2021.0</td>\n",
       "    </tr>\n",
       "  </tbody>\n",
       "</table>\n",
       "</div>"
      ]
     },
     "execution_count": 21,
     "metadata": {},
     "output_type": "execute_result"
    }
   ],
   "execution_count": 21
  },
  {
   "metadata": {},
   "cell_type": "markdown",
   "source": [
    "#### Duplikate entfernen\n",
    "Überprüfen wir, ob es doppelte Einträge im Datensatz gibt und entfernen diese, basierend auf 'title' und 'type'."
   ],
   "id": "30b4594748640733"
  },
  {
   "metadata": {
    "ExecuteTime": {
     "end_time": "2025-08-05T05:36:15.568548Z",
     "start_time": "2025-08-05T05:36:15.548412Z"
    }
   },
   "cell_type": "code",
   "source": [
    "initial_rows = df.shape[0]\n",
    "df.drop_duplicates(subset=['title', 'type'], inplace=True)\n",
    "print(f\"\\nAnzahl der entfernten Duplikate: {initial_rows - df.shape[0]}\")\n",
    "print(f\"Neue Anzahl der Zeilen nach Duplikatsentfernung: {df.shape[0]}\")"
   ],
   "id": "cd84a35d1b2b18d6",
   "outputs": [
    {
     "name": "stdout",
     "output_type": "stream",
     "text": [
      "\n",
      "Anzahl der entfernten Duplikate: 0\n",
      "Neue Anzahl der Zeilen nach Duplikatsentfernung: 8797\n"
     ]
    }
   ],
   "execution_count": 22
  },
  {
   "metadata": {},
   "cell_type": "markdown",
   "source": [
    "## 5. Datenanalyse (Analytic)\n",
    "Jetzt, da unsere Daten sauber sind, können wir spannende Fragen beantworten!\n",
    "\n",
    "#### 5.1 Verteilung von Filmen und Serien\n",
    "Wie viele Filme und Serien sind im Datensatz enthalten?"
   ],
   "id": "cd0c5cfc76fdb997"
  },
  {
   "metadata": {},
   "cell_type": "markdown",
   "source": [
    "#### 5.2 Die Top 10 Regisseure\n",
    "Wer hat die meisten Titel inszeniert?"
   ],
   "id": "2c511df0f48f9798"
  },
  {
   "metadata": {},
   "cell_type": "markdown",
   "source": [
    "#### 5.3 Die Top 10 Genres (listed_in)\n",
    "Welche Genres sind am häufigsten vertreten? Hier müssen wir beachten, dass ein Titel mehrere Genres haben kann."
   ],
   "id": "94bdb1be22ef5bd6"
  },
  {
   "metadata": {},
   "cell_type": "markdown",
   "source": [
    "#### 5.4 Entwicklung der Veröffentlichungen über die Jahre\n",
    "Wie viele Titel wurden pro release_year veröffentlicht?"
   ],
   "id": "7d999fe124215176"
  },
  {
   "metadata": {},
   "cell_type": "markdown",
   "source": [
    "#### 5.5 Die Top 10 Länder\n",
    "Aus welchen Ländern stammen die meisten Titel?"
   ],
   "id": "325167b99aa8b14c"
  },
  {
   "metadata": {},
   "cell_type": "markdown",
   "source": [
    "## 6. Visualisierung\n",
    "Visualisierungen helfen uns, die Erkenntnisse aus den Daten besser zu verstehen und zu kommunizieren.\n",
    "\n",
    "#### 6.1 Verteilung von Filmen und Serien"
   ],
   "id": "ec067809111126fc"
  },
  {
   "metadata": {
    "ExecuteTime": {
     "end_time": "2025-08-05T06:30:18.574541Z",
     "start_time": "2025-08-05T06:30:18.464061Z"
    }
   },
   "cell_type": "code",
   "source": [
    "plt.figure(figsize=(7, 7))\n",
    "type_counts.plot(kind='pie', autopct='%1.1f%%', startangle=90, colors=['skyblue', 'lightcoral'])\n",
    "plt.title('Verteilung von Filmen und Serien')\n",
    "plt.ylabel('') # Entfernt das \"type\" Label auf der Y-Achse\n",
    "plt.show()"
   ],
   "id": "bc5d7013c7a727c3",
   "outputs": [
    {
     "ename": "NameError",
     "evalue": "name 'plt' is not defined",
     "output_type": "error",
     "traceback": [
      "\u001B[31m---------------------------------------------------------------------------\u001B[39m",
      "\u001B[31mNameError\u001B[39m                                 Traceback (most recent call last)",
      "\u001B[36mCell\u001B[39m\u001B[36m \u001B[39m\u001B[32mIn[1]\u001B[39m\u001B[32m, line 1\u001B[39m\n\u001B[32m----> \u001B[39m\u001B[32m1\u001B[39m \u001B[43mplt\u001B[49m.figure(figsize=(\u001B[32m7\u001B[39m, \u001B[32m7\u001B[39m))\n\u001B[32m      2\u001B[39m type_counts.plot(kind=\u001B[33m'\u001B[39m\u001B[33mpie\u001B[39m\u001B[33m'\u001B[39m, autopct=\u001B[33m'\u001B[39m\u001B[38;5;132;01m%1.1f\u001B[39;00m\u001B[38;5;132;01m%%\u001B[39;00m\u001B[33m'\u001B[39m, startangle=\u001B[32m90\u001B[39m, colors=[\u001B[33m'\u001B[39m\u001B[33mskyblue\u001B[39m\u001B[33m'\u001B[39m, \u001B[33m'\u001B[39m\u001B[33mlightcoral\u001B[39m\u001B[33m'\u001B[39m])\n\u001B[32m      3\u001B[39m plt.title(\u001B[33m'\u001B[39m\u001B[33mVerteilung von Filmen und Serien\u001B[39m\u001B[33m'\u001B[39m)\n",
      "\u001B[31mNameError\u001B[39m: name 'plt' is not defined"
     ]
    }
   ],
   "execution_count": 1
  },
  {
   "metadata": {},
   "cell_type": "markdown",
   "source": "#### 6.2 Top 10 Genres",
   "id": "929e174c93fd20a9"
  },
  {
   "metadata": {
    "ExecuteTime": {
     "end_time": "2025-08-05T06:06:36.896831Z",
     "start_time": "2025-08-05T06:06:36.774909Z"
    }
   },
   "cell_type": "code",
   "source": [
    "plt.figure(figsize=(12, 7))\n",
    "sns.barplot(x=top_genres.index, y=top_genres.values, palette='viridis')\n",
    "plt.title('Top 10 Genres')\n",
    "plt.xlabel('Genre')\n",
    "plt.ylabel('Anzahl der Titel')\n",
    "plt.xticks(rotation=45, ha='right') # Labels besser lesbar machen\n",
    "plt.tight_layout()\n",
    "plt.show()"
   ],
   "id": "91f7626df7166402",
   "outputs": [
    {
     "name": "stderr",
     "output_type": "stream",
     "text": [
      "/var/folders/ct/24qvw01n11d3qbzsdjq4bykw0000gn/T/ipykernel_22519/3623446369.py:2: FutureWarning: \n",
      "\n",
      "Passing `palette` without assigning `hue` is deprecated and will be removed in v0.14.0. Assign the `x` variable to `hue` and set `legend=False` for the same effect.\n",
      "\n",
      "  sns.barplot(x=top_genres.index, y=top_genres.values, palette='viridis')\n"
     ]
    },
    {
     "data": {
      "text/plain": [
       "<Figure size 1200x700 with 1 Axes>"
      ],
      "image/png": "[encoded data removed]"
     },
     "metadata": {},
     "output_type": "display_data"
    }
   ],
   "execution_count": 31
  },
  {
   "metadata": {},
   "cell_type": "markdown",
   "source": "#### 6.3 Titel-Veröffentlichungen über die Jahre",
   "id": "68c8d3f6821bec7a"
  },
  {
   "metadata": {
    "ExecuteTime": {
     "end_time": "2025-08-05T06:08:32.548535Z",
     "start_time": "2025-08-05T06:08:32.462617Z"
    }
   },
   "cell_type": "code",
   "source": [
    "plt.figure(figsize=(14, 7))\n",
    "releases_per_year.plot(kind='line', marker='o', linestyle='-', color='purple')\n",
    "plt.title('Anzahl der Titel-Veröffentlichungen pro Jahr')\n",
    "plt.xlabel('Veröffentlichungsjahr')\n",
    "plt.ylabel('Anzahl der Titel')\n",
    "plt.grid(True)\n",
    "plt.show()"
   ],
   "id": "7e4df3867172368a",
   "outputs": [
    {
     "data": {
      "text/plain": [
       "<Figure size 1400x700 with 1 Axes>"
      ],
      "image/png": "[encoded data removed]"
     },
     "metadata": {},
     "output_type": "display_data"
    }
   ],
   "execution_count": 32
  },
  {
   "metadata": {},
   "cell_type": "markdown",
   "source": "#### 6.4 Top 10 Länder",
   "id": "549c69e96301cc95"
  },
  {
   "metadata": {
    "ExecuteTime": {
     "end_time": "2025-08-05T06:09:58.569091Z",
     "start_time": "2025-08-05T06:09:58.465156Z"
    }
   },
   "cell_type": "code",
   "source": [
    "plt.figure(figsize=(12, 7))\n",
    "sns.barplot(x=top_countries.values, y=top_countries.index, palette='plasma')\n",
    "plt.title('Top 10 Länder mit den meisten Titeln')\n",
    "plt.xlabel('Anzahl der Titel')\n",
    "plt.ylabel('Land')\n",
    "plt.tight_layout()\n",
    "plt.show()"
   ],
   "id": "79c2c1f16429aff2",
   "outputs": [
    {
     "name": "stderr",
     "output_type": "stream",
     "text": [
      "/var/folders/ct/24qvw01n11d3qbzsdjq4bykw0000gn/T/ipykernel_22519/174703016.py:2: FutureWarning: \n",
      "\n",
      "Passing `palette` without assigning `hue` is deprecated and will be removed in v0.14.0. Assign the `y` variable to `hue` and set `legend=False` for the same effect.\n",
      "\n",
      "  sns.barplot(x=top_countries.values, y=top_countries.index, palette='plasma')\n"
     ]
    },
    {
     "data": {
      "text/plain": [
       "<Figure size 1200x700 with 1 Axes>"
      ],
      "image/png": "[encoded data removed]"
     },
     "metadata": {},
     "output_type": "display_data"
    }
   ],
   "execution_count": 33
  },
  {
   "metadata": {},
   "cell_type": "markdown",
   "source": [
    "### 6.5 Unterschiedliche Diagramme\n",
    "Betrachte folgenden Code (den hatten wir schon in 5.1)\n",
    "```python\n",
    "type_counts = df['type'].value_counts()\n",
    "print(\"\\nAnzahl der Filme und Serien:\")\n",
    "print(type_counts)\n",
    "```\n",
    "Lasst uns die Verteilung in unterschiedlichen Diagrammen visualisieren"
   ],
   "id": "4de207208dfa9a56"
  },
  {
   "metadata": {},
   "cell_type": "markdown",
   "source": "#### 6.5.1 Option 1: Einfaches Balkendiagramm mit Pandas\n",
   "id": "c81fc1e98e9f896f"
  },
  {
   "metadata": {
    "ExecuteTime": {
     "end_time": "2025-08-05T06:19:44.201267Z",
     "start_time": "2025-08-05T06:19:44.137254Z"
    }
   },
   "cell_type": "code",
   "source": [
    "# Direktes Plotten mit pandas\n",
    "type_counts = df['type'].value_counts()\n",
    "type_counts.plot(kind='bar', color=['#ff9999', '#66b3ff'])\n",
    "\n",
    "# Diagramm anpassen\n",
    "plt.title('Verteilung nach Medientyp (Film/Serie)')\n",
    "plt.xlabel('Typ')\n",
    "plt.ylabel('Anzahl')\n",
    "plt.xticks(rotation=0)  # Beschriftungen horizontal\n",
    "\n",
    "# Anzeigen\n",
    "plt.tight_layout()\n",
    "plt.show()\n"
   ],
   "id": "8c3d590e3b9226c2",
   "outputs": [
    {
     "data": {
      "text/plain": [
       "<Figure size 1000x600 with 1 Axes>"
      ],
      "image/png": "[encoded data removed]"
     },
     "metadata": {},
     "output_type": "display_data"
    }
   ],
   "execution_count": 34
  },
  {
   "metadata": {},
   "cell_type": "markdown",
   "source": "#### 6.5.2 Option 2: Kreisdiagramm (Pie Chart)\n",
   "id": "56ebe7e517cad7d8"
  },
  {
   "metadata": {
    "ExecuteTime": {
     "end_time": "2025-08-05T06:20:44.852086Z",
     "start_time": "2025-08-05T06:20:44.817736Z"
    }
   },
   "cell_type": "code",
   "source": [
    "# Kreisdiagramm erstellen\n",
    "type_counts = df['type'].value_counts()\n",
    "plt.figure(figsize=(8, 8))\n",
    "plt.pie(type_counts, labels=type_counts.index, autopct='%1.1f%%',\n",
    "        startangle=90, colors=['#ff9999', '#66b3ff'])\n",
    "plt.axis('equal')  # Kreis statt Ellipse\n",
    "plt.title('Verteilung nach Medientyp')\n",
    "plt.show()\n"
   ],
   "id": "fadc7db294dfd9a1",
   "outputs": [
    {
     "data": {
      "text/plain": [
       "<Figure size 800x800 with 1 Axes>"
      ],
      "image/png": "[encoded data removed]"
     },
     "metadata": {},
     "output_type": "display_data"
    }
   ],
   "execution_count": 36
  },
  {
   "metadata": {},
   "cell_type": "markdown",
   "source": "#### 6.5.3 Option 3: Seaborn-Countplot (elegantere Lösung)\n",
   "id": "d1af2c626ed94c77"
  },
  {
   "metadata": {
    "ExecuteTime": {
     "end_time": "2025-08-05T06:21:35.000117Z",
     "start_time": "2025-08-05T06:21:34.935431Z"
    }
   },
   "cell_type": "code",
   "source": [
    "# Mit Seaborn erstellen (erzeugt automatisch value_counts)\n",
    "plt.figure(figsize=(10, 6))\n",
    "sns.countplot(x='type', data=df, palette='Set2')\n",
    "\n",
    "# Diagramm anpassen\n",
    "plt.title('Verteilung nach Medientyp')\n",
    "plt.xlabel('Typ')\n",
    "plt.ylabel('Anzahl')\n",
    "\n",
    "# Werte über den Balken anzeigen\n",
    "for i, count in enumerate(df['type'].value_counts()):\n",
    "    plt.text(i, count + 5, f'{count}', ha='center')\n",
    "\n",
    "plt.show()\n"
   ],
   "id": "241f78abc9391a6d",
   "outputs": [
    {
     "name": "stderr",
     "output_type": "stream",
     "text": [
      "/var/folders/ct/24qvw01n11d3qbzsdjq4bykw0000gn/T/ipykernel_22519/3978356788.py:3: FutureWarning: \n",
      "\n",
      "Passing `palette` without assigning `hue` is deprecated and will be removed in v0.14.0. Assign the `x` variable to `hue` and set `legend=False` for the same effect.\n",
      "\n",
      "  sns.countplot(x='type', data=df, palette='Set2')\n"
     ]
    },
    {
     "data": {
      "text/plain": [
       "<Figure size 1000x600 with 1 Axes>"
      ],
      "image/png": "[encoded data removed]"
     },
     "metadata": {},
     "output_type": "display_data"
    }
   ],
   "execution_count": 37
  },
  {
   "metadata": {},
   "cell_type": "markdown",
   "source": "#### 6.5.4 Horizontales Balkendiagramm",
   "id": "2f3453882f817e12"
  },
  {
   "metadata": {
    "ExecuteTime": {
     "end_time": "2025-08-05T06:22:34.758856Z",
     "start_time": "2025-08-05T06:22:34.701924Z"
    }
   },
   "cell_type": "code",
   "source": [
    "# Horizontales Balkendiagramm\n",
    "type_counts = df['type'].value_counts()\n",
    "type_counts.plot(kind='barh', color=sns.color_palette(\"Set2\"))\n",
    "\n",
    "plt.title('Verteilung nach Medientyp')\n",
    "plt.xlabel('Anzahl')\n",
    "plt.ylabel('Typ')\n",
    "\n",
    "# Werte am Ende der Balken anzeigen\n",
    "for i, count in enumerate(type_counts):\n",
    "    plt.text(count + 5, i, f'{count}', va='center')\n",
    "\n",
    "plt.tight_layout()\n",
    "plt.show()\n"
   ],
   "id": "c1d154dec608e4f9",
   "outputs": [
    {
     "data": {
      "text/plain": [
       "<Figure size 1000x600 with 1 Axes>"
      ],
      "image/png": "[encoded data removed]"
     },
     "metadata": {},
     "output_type": "display_data"
    }
   ],
   "execution_count": 38
  },
  {
   "metadata": {},
   "cell_type": "markdown",
   "source": [
    "### Fazit und nächste Schritte\n",
    "Ihr habt nun die ersten Schritte der Datenanalyse mit Pandas gemeistert! Ihr habt gelernt, Daten zu laden, zu bereinigen, grundlegende Analysen durchzuführen und die Ergebnisse zu visualisieren.\n",
    "\n",
    "#### Mögliche weitere Schritte und Herausforderungen:\n",
    "\n",
    "- Detailliertere Analyse der duration Spalte: Filmlaufzeiten analysieren (z.B. durchschnittliche Filmlänge).\n",
    "\n",
    "- Analyse der rating Spalte: Wie verteilen sich die verschiedenen Altersfreigaben?\n",
    "\n",
    "- Komplexere Textanalyse: Die description Spalte könnte für eine Wortanalyse verwendet werden (z.B. häufigste Schlüsselwörter).\n",
    "\n",
    "- Interaktive Visualisierungen: Erkundet Bibliotheken wie Plotly oder Bokeh für interaktive Diagramme.\n",
    "\n",
    "Viel Spaß beim weiteren Erkunden der Daten!"
   ],
   "id": "6f508a7562836b38"
  },
  {
   "metadata": {},
   "cell_type": "code",
   "outputs": [],
   "execution_count": null,
   "source": "",
   "id": "9a7dbfec216b1bbb"
  },
  {
   "metadata": {},
   "cell_type": "code",
   "outputs": [],
   "execution_count": null,
   "source": "",
   "id": "c5b874fe6f93eb0b"
  }
 ],
 "metadata": {
  "kernelspec": {
   "display_name": "Python 3",
   "language": "python",
   "name": "python3"
  },
  "language_info": {
   "codemirror_mode": {
    "name": "ipython",
    "version": 2
   },
   "file_extension": ".py",
   "mimetype": "text/x-python",
   "name": "python",
   "nbconvert_exporter": "python",
   "pygments_lexer": "ipython2",
   "version": "2.7.6"
  }
 },
 "nbformat": 4,
 "nbformat_minor": 5
}
